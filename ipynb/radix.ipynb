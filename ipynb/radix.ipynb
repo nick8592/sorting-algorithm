{
 "cells": [
  {
   "cell_type": "markdown",
   "metadata": {},
   "source": [
    "# Radix Sort: Step-by-Step Explanation\n",
    "\n",
    "## Introduction\n",
    "Radix Sort is a non-comparative integer sorting algorithm that sorts numbers by processing individual digits. It works by sorting numbers digit by digit, starting from the least significant digit (LSD) to the most significant digit (MSD). Radix Sort relies on a stable sorting algorithm, like Counting Sort, as a subroutine to sort the numbers based on individual digits.\n",
    "\n",
    "Radix Sort is particularly efficient when dealing with large datasets of integers or fixed-length strings, as its complexity is linear with respect to the number of elements and the number of digits in the largest number.\n",
    "\n",
    "### Time Complexity:\n",
    "- Best Case: O(d * (n + k))\n",
    "- Worst Case: O(d * (n + k))\n",
    "  - **n**: Number of elements to sort\n",
    "  - **d**: Number of digits in the largest number\n",
    "  - **k**: Range of digits (typically 0-9 for base-10 numbers)\n",
    "\n",
    "### Space Complexity:\n",
    "- O(n + k) for auxiliary arrays used in counting sort.\n",
    "\n",
    "## Steps of the Algorithm\n",
    "1. **Determine the maximum number** in the array to figure out the number of digits (`d`).\n",
    "2. **Iterate over each digit position** from the least significant to the most significant.\n",
    "3. **Use a stable subroutine (Counting Sort)** to sort the numbers by the current digit.\n",
    "4. After sorting based on each digit, the array will become more sorted, and by the time we reach the most significant digit, the entire array will be sorted."
   ]
  },
  {
   "cell_type": "markdown",
   "metadata": {},
   "source": [
    "\n",
    "### Explanation of Python Code:\n",
    "1. **counting_sort(arr, exp)**: Sorts the array based on the digit represented by `exp` (1 for units, 10 for tens, 100 for hundreds, etc.).\n",
    "2. **radix_sort(arr)**: Iterates over each digit and calls the counting sort for the respective digit.\n",
    "3. The **output** array is used to collect the sorted elements at each step.\n",
    "4. **count[]** array holds the cumulative count for each digit, ensuring stable sorting.\n"
   ]
  },
  {
   "cell_type": "code",
   "execution_count": 2,
   "metadata": {},
   "outputs": [
    {
     "name": "stdout",
     "output_type": "stream",
     "text": [
      "Original array: [4, 6, 3, 2, 1, 7, 5]\n",
      "Sorted array: [1, 2, 3, 4, 5, 6, 7]\n"
     ]
    }
   ],
   "source": [
    "# Function to do Counting Sort based on the digit represented by exp (10^i)\n",
    "def counting_sort(arr, exp):\n",
    "    n = len(arr)\n",
    "    \n",
    "    # Output array to store sorted numbers\n",
    "    output = [0] * n\n",
    "    \n",
    "    # Initialize count array to store the frequency of digits (0-9)\n",
    "    count = [0] * 10\n",
    "    \n",
    "    # Store the count of occurrences of each digit in the exp position\n",
    "    for i in range(n):\n",
    "        index = (arr[i] // exp) % 10\n",
    "        count[index] += 1\n",
    "    \n",
    "    # Change count[i] to contain the actual position of this digit in the output array\n",
    "    for i in range(1, 10):\n",
    "        count[i] += count[i - 1]\n",
    "    \n",
    "    # Build the output array by placing elements in the correct position\n",
    "    i = n - 1\n",
    "    while i >= 0:\n",
    "        index = (arr[i] // exp) % 10\n",
    "        output[count[index] - 1] = arr[i]\n",
    "        count[index] -= 1\n",
    "        i -= 1\n",
    "    \n",
    "    # Copy the output array to arr, so arr now contains numbers sorted by this digit\n",
    "    for i in range(n):\n",
    "        arr[i] = output[i]\n",
    "\n",
    "# Function to implement Radix Sort\n",
    "def radix_sort(arr):\n",
    "    # Find the maximum number to know the number of digits\n",
    "    max_num = max(arr)\n",
    "    \n",
    "    # Do counting sort for every digit, exp represents 10^i (i.e., 1, 10, 100, ...)\n",
    "    exp = 1\n",
    "    while max_num // exp > 0:\n",
    "        counting_sort(arr, exp)\n",
    "        exp *= 10\n",
    "\n",
    "# Example usage:\n",
    "arr = [4, 6, 3, 2, 1, 7, 5]\n",
    "print(\"Original array:\", arr)\n",
    "radix_sort(arr)\n",
    "print(\"Sorted array:\", arr)"
   ]
  }
 ],
 "metadata": {
  "kernelspec": {
   "display_name": "base",
   "language": "python",
   "name": "python3"
  },
  "language_info": {
   "codemirror_mode": {
    "name": "ipython",
    "version": 3
   },
   "file_extension": ".py",
   "mimetype": "text/x-python",
   "name": "python",
   "nbconvert_exporter": "python",
   "pygments_lexer": "ipython3",
   "version": "3.10.12"
  }
 },
 "nbformat": 4,
 "nbformat_minor": 2
}
