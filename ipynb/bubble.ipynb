{
 "cells": [
  {
   "cell_type": "markdown",
   "metadata": {},
   "source": [
    "# Bubble Sort: Step-by-Step Explanation\n",
    "\n",
    "## Introduction\n",
    "Bubble Sort is a simple comparison-based sorting algorithm that works by repeatedly stepping through the list to be sorted, comparing adjacent items, and swapping them if they are in the wrong order. The pass through the list is repeated until the list is sorted.\n",
    "\n",
    "In each pass, the largest unsorted element \"bubbles up\" to its correct position at the end of the list.\n",
    "\n",
    "### Time Complexity:\n",
    "- Best Case: O(n) (when the array is already sorted)\n",
    "- Worst Case: O(n^2) (when the array is reverse sorted)\n",
    "\n",
    "## Steps of the Algorithm\n",
    "1. Starting from the first element, compare the current element with the next element.\n",
    "2. If the current element is greater than the next element, swap them.\n",
    "3. Move to the next element and repeat the process for the rest of the array.\n",
    "4. Repeat the entire process for `n-1` passes (where `n` is the length of the list), reducing the comparison scope each time, as the largest elements move to their correct positions."
   ]
  },
  {
   "cell_type": "code",
   "execution_count": 22,
   "metadata": {},
   "outputs": [
    {
     "name": "stdout",
     "output_type": "stream",
     "text": [
      "Phase 0\n",
      "[4, 6, 3, 5, 2, 7, 1]\n",
      "[4, 3, 6, 5, 2, 7, 1]\n",
      "[4, 3, 5, 6, 2, 7, 1]\n",
      "[4, 3, 5, 2, 6, 7, 1]\n",
      "[4, 3, 5, 2, 6, 7, 1]\n",
      "[4, 3, 5, 2, 6, 1, 7]\n",
      "Phase 1\n",
      "[3, 4, 5, 2, 6, 1, 7]\n",
      "[3, 4, 5, 2, 6, 1, 7]\n",
      "[3, 4, 2, 5, 6, 1, 7]\n",
      "[3, 4, 2, 5, 6, 1, 7]\n",
      "[3, 4, 2, 5, 1, 6, 7]\n",
      "Phase 2\n",
      "[3, 4, 2, 5, 1, 6, 7]\n",
      "[3, 2, 4, 5, 1, 6, 7]\n",
      "[3, 2, 4, 5, 1, 6, 7]\n",
      "[3, 2, 4, 1, 5, 6, 7]\n",
      "Phase 3\n",
      "[2, 3, 4, 1, 5, 6, 7]\n",
      "[2, 3, 4, 1, 5, 6, 7]\n",
      "[2, 3, 1, 4, 5, 6, 7]\n",
      "Phase 4\n",
      "[2, 3, 1, 4, 5, 6, 7]\n",
      "[2, 1, 3, 4, 5, 6, 7]\n",
      "Phase 5\n",
      "[1, 2, 3, 4, 5, 6, 7]\n",
      "Phase 6\n",
      "Result\n",
      "[1, 2, 3, 4, 5, 6, 7]\n"
     ]
    }
   ],
   "source": [
    "# Step 1: Basic Bubble Sort Implementation\n",
    "\n",
    "def bubble_sort(arr):\n",
    "    n = len(arr)\n",
    "    # Traverse through all elements\n",
    "    for i in range(n):\n",
    "        print(f\"Phase {i}\")\n",
    "        # Last i elements are already sorted, no need to compare them\n",
    "        for j in range(0, n-i-1):\n",
    "            # Swap if the current element is greater than the next\n",
    "            if arr[j] > arr[j+1]:\n",
    "                arr[j], arr[j+1] = arr[j+1], arr[j]\n",
    "            print(arr)\n",
    "    return arr\n",
    "\n",
    "# Test the function\n",
    "sample_list = [4, 6, 3, 5, 2, 7, 1]\n",
    "sorted_list = bubble_sort(sample_list.copy())\n",
    "print(\"Result\")\n",
    "print(sorted_list)\n"
   ]
  }
 ],
 "metadata": {
  "kernelspec": {
   "display_name": "base",
   "language": "python",
   "name": "python3"
  },
  "language_info": {
   "codemirror_mode": {
    "name": "ipython",
    "version": 3
   },
   "file_extension": ".py",
   "mimetype": "text/x-python",
   "name": "python",
   "nbconvert_exporter": "python",
   "pygments_lexer": "ipython3",
   "version": "3.10.12"
  }
 },
 "nbformat": 4,
 "nbformat_minor": 2
}
