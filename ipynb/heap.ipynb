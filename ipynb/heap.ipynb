{
 "cells": [
  {
   "cell_type": "markdown",
   "metadata": {},
   "source": [
    "# Heap Sort: Step-by-Step Explanation\n",
    "\n",
    "## Introduction\n",
    "Heap Sort is a comparison-based sorting algorithm that uses a binary heap data structure. It leverages the properties of a binary heap to sort an array efficiently. Heap sort first converts the input array into a **max heap** (a binary tree where the root node is always greater than its children). Then, it repeatedly swaps the root (the largest element) with the last element of the array, reduces the heap size, and heapifies the root to maintain the heap property.\n",
    "\n",
    "### Time Complexity:\n",
    "- Best Case: O(n log n)\n",
    "- Worst Case: O(n log n)\n",
    "- Average Case: O(n log n)\n",
    "\n",
    "### Space Complexity:\n",
    "- O(1) (in-place sorting)\n",
    "\n",
    "## Steps of the Algorithm\n",
    "1. **Build a max heap** from the input array.\n",
    "   - Start from the last non-leaf node and heapify each node upwards.\n",
    "2. **Heapify the root** element to maintain the max heap property.\n",
    "   - Swap the root (largest value) with the last element of the heap.\n",
    "3. Reduce the heap size by one.\n",
    "4. **Repeat heapify** for the root to rebuild the heap and maintain the max heap property.\n",
    "5. Repeat the process until the entire array is sorted.\n",
    "\n",
    "### Example Breakdown:\n",
    "\n",
    "Consider the array `[12, 11, 13, 5, 6, 7]`:\n",
    "\n",
    "1. Build max heap: `[13, 12, 7, 5, 6, 11]`\n",
    "2. Swap root (13) with last element (11): `[11, 12, 7, 5, 6, 13]`\n",
    "3. Heapify the reduced heap: `[12, 11, 7, 5, 6, 13]`\n",
    "4. Swap root (12) with second last element (6): `[6, 11, 7, 5, 12, 13]`\n",
    "5. Heapify the reduced heap: `[11, 6, 7, 5, 12, 13]`\n",
    "6. Continue this process until the array is sorted.\n",
    "\n",
    "Output result array `[5, 6, 7, 11, 12, 13]`"
   ]
  },
  {
   "cell_type": "code",
   "execution_count": 9,
   "metadata": {},
   "outputs": [
    {
     "name": "stdout",
     "output_type": "stream",
     "text": [
      "Original array: [4, 3, 5, 2, 1, 7, 6]\n",
      "Sorted array: [1, 2, 3, 4, 5, 6, 7]\n"
     ]
    }
   ],
   "source": [
    "def heapify(arr, n, i):\n",
    "    # Find largest among root and children\n",
    "    largest = i  # Initialize largest as root\n",
    "    left = 2 * i + 1  # Left child index\n",
    "    right = 2 * i + 2  # Right child index\n",
    "\n",
    "    # If left child exists and is greater than root\n",
    "    if left < n and arr[left] > arr[largest]:\n",
    "        largest = left\n",
    "\n",
    "    # If right child exists and is greater than largest so far\n",
    "    if right < n and arr[right] > arr[largest]:\n",
    "        largest = right\n",
    "\n",
    "    # If the largest is not the root, swap and heapify the root\n",
    "    if largest != i:\n",
    "        arr[i], arr[largest] = arr[largest], arr[i]  # Swap\n",
    "        heapify(arr, n, largest)  # Heapify the affected subtree\n",
    "\n",
    "def heap_sort(arr):\n",
    "    n = len(arr)\n",
    "\n",
    "    # Build a max heap\n",
    "    for i in range(n // 2 - 1, -1, -1):\n",
    "        heapify(arr, n, i)\n",
    "\n",
    "    # Extract elements from the heap one by one\n",
    "    for i in range(n - 1, 0, -1):\n",
    "        # Move current root to the end\n",
    "        arr[i], arr[0] = arr[0], arr[i]  # Swap\n",
    "        heapify(arr, i, 0)  # Call max heapify on the reduced heap\n",
    "\n",
    "# Example usage:\n",
    "arr = [4, 3, 5, 2, 1, 7, 6]\n",
    "print(\"Original array:\", arr)\n",
    "heap_sort(arr)\n",
    "print(\"Sorted array:\", arr)"
   ]
  }
 ],
 "metadata": {
  "kernelspec": {
   "display_name": "base",
   "language": "python",
   "name": "python3"
  },
  "language_info": {
   "codemirror_mode": {
    "name": "ipython",
    "version": 3
   },
   "file_extension": ".py",
   "mimetype": "text/x-python",
   "name": "python",
   "nbconvert_exporter": "python",
   "pygments_lexer": "ipython3",
   "version": "3.10.12"
  }
 },
 "nbformat": 4,
 "nbformat_minor": 2
}
