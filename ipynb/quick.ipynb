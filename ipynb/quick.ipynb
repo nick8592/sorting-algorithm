{
 "cells": [
  {
   "cell_type": "markdown",
   "metadata": {},
   "source": [
    "# Quick Sort: Step-by-Step Explanation\n",
    "\n",
    "## Introduction\n",
    "Quick Sort is a highly efficient sorting algorithm that employs the **divide-and-conquer** strategy to sort elements. It works by selecting a \"pivot\" element from the array and partitioning the other elements into two sub-arrays: elements less than the pivot and elements greater than the pivot. The process is recursively applied to the sub-arrays.\n",
    "\n",
    "Quick Sort is widely used due to its efficiency in handling large datasets and its average-case performance being better than many other sorting algorithms.\n",
    "\n",
    "### Time Complexity:\n",
    "- **Best Case**: O(n log n) (when the pivot divides the array evenly)\n",
    "- **Average Case**: O(n log n)\n",
    "- **Worst Case**: O(n²) (when the smallest or largest element is always chosen as the pivot, leading to unbalanced partitions)\n",
    "\n",
    "### Space Complexity:\n",
    "- O(log n) (due to recursive calls; in-place sorting doesn't require extra space except for recursion stack)\n",
    "\n",
    "## Steps of the Algorithm\n",
    "1. **Choose a Pivot**: Select a pivot element from the array (can be the first, last, middle, or random element).\n",
    "2. **Partitioning**: Rearrange the array such that:\n",
    "   - All elements less than the pivot are placed before it.\n",
    "   - All elements greater than the pivot are placed after it.\n",
    "3. **Recursive Sorting**: Recursively apply the above steps to the sub-arrays of elements less than the pivot and greater than the pivot. (Dream within a dream - Inception)\n",
    "4. **Base Case**: The recursion ends when the sub-array has 1 or 0 elements, meaning it is already sorted.\n",
    "\n",
    "The pivot selection and partitioning are the core steps that make Quick Sort different from other sorting algorithms."
   ]
  },
  {
   "cell_type": "markdown",
   "metadata": {},
   "source": [
    "### Example Breakdown:\n",
    "\n",
    "Consider the array `[10, 7, 8, 9, 1, 5]`:\n",
    "\n",
    "1. **Initial Array**: `[10, 7, 8, 9, 1, 5]`\n",
    "   - **Pivot**: 5\n",
    "   - **Less than pivot**: `[1]`\n",
    "   - **Greater than pivot**: `[10, 7, 8, 9]`\n",
    "   \n",
    "   After partitioning, the sub-arrays `[1]` and `[10, 7, 8, 9]` are recursively sorted.\n",
    "\n",
    "2. For the sub-array `[10, 7, 8, 9]`:\n",
    "   - **Pivot**: 9\n",
    "   - **Less than pivot**: `[7, 8]`\n",
    "   - **Greater than pivot**: `[10]`\n",
    "   \n",
    "   Recursively apply the same process to `[7, 8]` and `[10]`.\n",
    "\n",
    "3. Continue this process until all sub-arrays are sorted, and finally concatenate the results: `[1, 5, 7, 8, 9, 10]`."
   ]
  },
  {
   "cell_type": "code",
   "execution_count": 5,
   "metadata": {},
   "outputs": [
    {
     "name": "stdout",
     "output_type": "stream",
     "text": [
      "Original array: [4, 3, 5, 2, 1]\n",
      "Sorted array: [1, 2, 3, 4, 5]\n"
     ]
    }
   ],
   "source": [
    "def quick_sort(arr):\n",
    "    # Base case: arrays with 1 or zero elements are already sorted\n",
    "    if len(arr) <= 1:\n",
    "        return arr\n",
    "    \n",
    "    # Step 1: Choose a pivot (we'll use the last element as the pivot in this case)\n",
    "    pivot = arr[-1]\n",
    "    \n",
    "    # Step 2: Partition the array into two sub-arrays\n",
    "    less_than_pivot = [x for x in arr[:-1] if x <= pivot]  # Elements less than or equal to pivot\n",
    "    greater_than_pivot = [x for x in arr[:-1] if x > pivot]  # Elements greater than pivot\n",
    "    \n",
    "    # Step 3: Recursively sort the sub-arrays and concatenate results\n",
    "    return quick_sort(less_than_pivot) + [pivot] + quick_sort(greater_than_pivot)\n",
    "\n",
    "# Example usage:\n",
    "arr = [4, 3, 5, 2, 1]\n",
    "print(\"Original array:\", arr)\n",
    "sorted_arr = quick_sort(arr)\n",
    "print(\"Sorted array:\", sorted_arr)\n"
   ]
  },
  {
   "cell_type": "code",
   "execution_count": 9,
   "metadata": {},
   "outputs": [
    {
     "name": "stdout",
     "output_type": "stream",
     "text": [
      "Original array: [4, 3, 5, 2, 1]\n",
      "Sorted array: [1, 2, 3, 4, 5]\n"
     ]
    }
   ],
   "source": [
    "def ascent_quick(arr):\n",
    "    if len(arr) <= 1:\n",
    "        return arr\n",
    "    pivot = arr[-1]\n",
    "    less = [x for x in arr[:-1] if x <= pivot]\n",
    "    greater = [x for x in arr[:-1] if x > pivot]\n",
    "\n",
    "    return ascent_quick(less) + [pivot] + ascent_quick(greater)\n",
    "\n",
    "# Example usage:\n",
    "arr = [4, 3, 5, 2, 1]\n",
    "print(\"Original array:\", arr)\n",
    "sorted_arr = ascent_quick(arr)\n",
    "print(\"Sorted array:\", sorted_arr)"
   ]
  },
  {
   "cell_type": "code",
   "execution_count": 11,
   "metadata": {},
   "outputs": [
    {
     "name": "stdout",
     "output_type": "stream",
     "text": [
      "Original array: [4, 3, 5, 2, 1]\n",
      "Sorted array: [5, 4, 3, 2, 1]\n"
     ]
    }
   ],
   "source": [
    "def descent_quick(arr):\n",
    "    if len(arr) <= 1:\n",
    "        return arr\n",
    "    pivot = arr[-1]\n",
    "    less = [x for x in arr[:-1] if x <= pivot]\n",
    "    greater = [x for x in arr[:-1] if x > pivot]\n",
    "\n",
    "    return descent_quick(greater) + [pivot] + descent_quick(less)\n",
    "\n",
    "# Example usage:\n",
    "arr = [4, 3, 5, 2, 1]\n",
    "print(\"Original array:\", arr)\n",
    "sorted_arr = descent_quick(arr)\n",
    "print(\"Sorted array:\", sorted_arr)"
   ]
  }
 ],
 "metadata": {
  "kernelspec": {
   "display_name": "base",
   "language": "python",
   "name": "python3"
  },
  "language_info": {
   "codemirror_mode": {
    "name": "ipython",
    "version": 3
   },
   "file_extension": ".py",
   "mimetype": "text/x-python",
   "name": "python",
   "nbconvert_exporter": "python",
   "pygments_lexer": "ipython3",
   "version": "3.10.12"
  }
 },
 "nbformat": 4,
 "nbformat_minor": 2
}
