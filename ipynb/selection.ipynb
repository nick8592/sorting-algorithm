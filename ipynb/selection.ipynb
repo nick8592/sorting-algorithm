{
 "cells": [
  {
   "cell_type": "markdown",
   "metadata": {},
   "source": [
    "# Selection Sort: Step-by-Step Explanation\n",
    "\n",
    "## Introduction\n",
    "Selection Sort is a straightforward comparison-based sorting algorithm that works by dividing the input list into two parts: a sorted part and an unsorted part. The algorithm repeatedly selects the smallest (or largest, depending on the sorting order) element from the unsorted part and moves it to the end of the sorted part. \n",
    "\n",
    "The process continues until the entire list is sorted.\n",
    "\n",
    "### Time Complexity:\n",
    "- Best Case: O(n²) (no best-case advantage)\n",
    "- Average Case: O(n²)\n",
    "- Worst Case: O(n²)\n",
    "\n",
    "### Space Complexity:\n",
    "- O(1) (in-place sorting)\n",
    "\n",
    "## Steps of the Algorithm\n",
    "1. Start with the first element of the list and assume it is the minimum.\n",
    "2. Compare this minimum element with the rest of the elements in the unsorted part of the list.\n",
    "3. If a smaller element is found, update the minimum.\n",
    "4. After scanning the entire unsorted part, swap the minimum element found with the first unsorted element.\n",
    "5. Move the boundary between the sorted and unsorted parts one element to the right.\n",
    "6. Repeat the process until the entire list is sorted."
   ]
  },
  {
   "cell_type": "code",
   "execution_count": 7,
   "metadata": {},
   "outputs": [
    {
     "name": "stdout",
     "output_type": "stream",
     "text": [
      "Original array: [5, 3, 2, 1, 4]\n",
      "Min index: 1, Value 3\n",
      "Min index: 2, Value 2\n",
      "Min index: 3, Value 1\n",
      "Min index: 3, Value 1\n",
      "Step 1: [1, 3, 2, 5, 4]\n",
      "\n",
      "Min index: 2, Value 2\n",
      "Min index: 2, Value 2\n",
      "Min index: 2, Value 2\n",
      "Step 2: [1, 2, 3, 5, 4]\n",
      "\n",
      "Min index: 2, Value 3\n",
      "Min index: 2, Value 3\n",
      "Step 3: [1, 2, 3, 5, 4]\n",
      "\n",
      "Min index: 4, Value 4\n",
      "Step 4: [1, 2, 3, 4, 5]\n",
      "\n",
      "Step 5: [1, 2, 3, 4, 5]\n",
      "\n",
      "Sorted array: [1, 2, 3, 4, 5]\n"
     ]
    }
   ],
   "source": [
    "# Selection Sort Step-by-Step Explanation\n",
    "\n",
    "# Function to perform selection sort\n",
    "def selection_sort(arr):\n",
    "    # Traverse through all array elements\n",
    "    for i in range(len(arr)):\n",
    "        # Step 1: Find the minimum element in unsorted array\n",
    "        min_idx = i # <<< index is the key\n",
    "        for j in range(i+1, len(arr)):\n",
    "            if arr[j] < arr[min_idx]:\n",
    "                min_idx = j  # Update min_idx if a smaller element is found\n",
    "            print(f\"Min index: {min_idx}, Value {arr[min_idx]}\")\n",
    "\n",
    "        # Step 2: Swap the found minimum element with the first element\n",
    "        arr[i], arr[min_idx] = arr[min_idx], arr[i]\n",
    "        \n",
    "        # Display the array after each iteration to show the sorting process\n",
    "        print(f\"Step {i+1}: {arr}\\n\")\n",
    "        \n",
    "    return arr\n",
    "\n",
    "# Example usage\n",
    "arr = [5, 3, 2, 1, 4]\n",
    "print(\"Original array:\", arr)\n",
    "sorted_array = selection_sort(arr)\n",
    "print(\"Sorted array:\", sorted_array)\n"
   ]
  },
  {
   "cell_type": "code",
   "execution_count": 12,
   "metadata": {},
   "outputs": [
    {
     "name": "stdout",
     "output_type": "stream",
     "text": [
      "Original array: [5, 3, 2, 1, 4]\n",
      "Sorted array: [1, 2, 3, 4, 5]\n"
     ]
    }
   ],
   "source": [
    "def min_selection(arr):\n",
    "    for i in range(len(arr)):\n",
    "        min_idx = i\n",
    "        for j in range(i, len(arr)):\n",
    "            if arr[j] < arr[min_idx]:\n",
    "                min_idx = j\n",
    "        arr[i], arr[min_idx] = arr[min_idx], arr[i]\n",
    "    return arr\n",
    "\n",
    "# Example usage\n",
    "arr = [5, 3, 2, 1, 4]\n",
    "print(\"Original array:\", arr)\n",
    "sorted_array = min_selection(arr)\n",
    "print(\"Sorted array:\", sorted_array)"
   ]
  },
  {
   "cell_type": "code",
   "execution_count": 13,
   "metadata": {},
   "outputs": [
    {
     "name": "stdout",
     "output_type": "stream",
     "text": [
      "Original array: [5, 3, 2, 1, 4]\n",
      "Sorted array: [5, 4, 3, 2, 1]\n"
     ]
    }
   ],
   "source": [
    "def max_selection(arr):\n",
    "    for i in range(len(arr)):\n",
    "        max_idx = i\n",
    "        for j in range(i, len(arr)):\n",
    "            if arr[j] > arr[max_idx]:\n",
    "                max_idx = j\n",
    "        arr[i], arr[max_idx] = arr[max_idx], arr[i]\n",
    "    return arr\n",
    "\n",
    "# Example usage\n",
    "arr = [5, 3, 2, 1, 4]\n",
    "print(\"Original array:\", arr)\n",
    "sorted_array = max_selection(arr)\n",
    "print(\"Sorted array:\", sorted_array)"
   ]
  }
 ],
 "metadata": {
  "kernelspec": {
   "display_name": "base",
   "language": "python",
   "name": "python3"
  },
  "language_info": {
   "codemirror_mode": {
    "name": "ipython",
    "version": 3
   },
   "file_extension": ".py",
   "mimetype": "text/x-python",
   "name": "python",
   "nbconvert_exporter": "python",
   "pygments_lexer": "ipython3",
   "version": "3.10.12"
  }
 },
 "nbformat": 4,
 "nbformat_minor": 2
}
