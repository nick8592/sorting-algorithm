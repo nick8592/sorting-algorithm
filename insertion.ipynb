{
 "cells": [
  {
   "cell_type": "markdown",
   "metadata": {},
   "source": [
    "# Insertion Sort: Step-by-Step Explanation\n",
    "\n",
    "## Introduction\n",
    "Insertion Sort is a simple and intuitive comparison-based sorting algorithm. It builds a sorted array (or list) one element at a time by repeatedly taking the next unsorted element and inserting it into the correct position within the sorted portion of the array. It is much less efficient on large lists than more advanced algorithms such as quicksort, heapsort, or merge sort.\n",
    "\n",
    "### Time Complexity:\n",
    "- Best Case: O(n) (when the array is already sorted)\n",
    "- Worst Case: O(n²) (when the array is reverse sorted)\n",
    "- Average Case: O(n²)\n",
    "\n",
    "### Space Complexity:\n",
    "- O(1) (since it only requires a constant amount of additional space for the temporary variable)\n",
    "\n",
    "## Steps of the Algorithm\n",
    "1. **Start with the second element** (since a single element is already sorted).\n",
    "2. **Compare the current element** (let’s call it `key`) with the elements in the sorted portion of the array (the left side).\n",
    "3. **Shift all elements in the sorted portion** that are greater than `key` to the right to make space for the `key`.\n",
    "4. **Insert the `key`** into its correct position in the sorted portion of the array.\n",
    "5. **Repeat** steps 2-4 for all elements in the array until the entire array is sorted."
   ]
  },
  {
   "cell_type": "code",
   "execution_count": 11,
   "metadata": {},
   "outputs": [
    {
     "name": "stdout",
     "output_type": "stream",
     "text": [
      "Array: [5, 5, 3, 1, 2], Key: 4, I: 1 J: -1\n",
      "Step 1: [4, 5, 3, 1, 2]\n",
      "\n",
      "Array: [4, 5, 5, 1, 2], Key: 3, I: 2 J: 0\n",
      "Array: [4, 4, 5, 1, 2], Key: 3, I: 2 J: -1\n",
      "Step 2: [3, 4, 5, 1, 2]\n",
      "\n",
      "Array: [3, 4, 5, 5, 2], Key: 1, I: 3 J: 1\n",
      "Array: [3, 4, 4, 5, 2], Key: 1, I: 3 J: 0\n",
      "Array: [3, 3, 4, 5, 2], Key: 1, I: 3 J: -1\n",
      "Step 3: [1, 3, 4, 5, 2]\n",
      "\n",
      "Array: [1, 3, 4, 5, 5], Key: 2, I: 4 J: 2\n",
      "Array: [1, 3, 4, 4, 5], Key: 2, I: 4 J: 1\n",
      "Array: [1, 3, 3, 4, 5], Key: 2, I: 4 J: 0\n",
      "Step 4: [1, 2, 3, 4, 5]\n",
      "\n",
      "Sorted array: [1, 2, 3, 4, 5]\n"
     ]
    }
   ],
   "source": [
    "def insertion_sort(arr):\n",
    "    # Traverse through 1 to len(arr)\n",
    "    for i in range(1, len(arr)):\n",
    "        key = arr[i]\n",
    "        j = i - 1\n",
    "        # Move elements of arr[0..i-1], that are greater than key,\n",
    "        # to one position ahead of their current position\n",
    "        while j >= 0 and key < arr[j]:\n",
    "            arr[j + 1] = arr[j]\n",
    "            j -= 1\n",
    "            print(f\"Array: {arr}, Key: {key}, I: {i} J: {j}\")\n",
    "        arr[j + 1] = key\n",
    "\n",
    "        # Display the array after each iteration to show the sorting process\n",
    "        print(f\"Step {i}: {arr}\\n\")\n",
    "    return arr\n",
    "\n",
    "# Example Usage\n",
    "arr = [5, 4, 3, 1, 2]\n",
    "print(\"Original array:\", arr)\n",
    "sorted_arr = insertion_sort(arr)\n",
    "print(\"Sorted array:\", sorted_arr)"
   ]
  },
  {
   "cell_type": "code",
   "execution_count": 14,
   "metadata": {},
   "outputs": [
    {
     "name": "stdout",
     "output_type": "stream",
     "text": [
      "Original array: [5, 4, 3, 1, 2]\n",
      "Sorted array: [1, 2, 3, 4, 5]\n"
     ]
    }
   ],
   "source": [
    "def min_insertion(arr):\n",
    "    for i in range(1, len(arr)):\n",
    "        key = arr[i]\n",
    "        j = i - 1\n",
    "        while j >=0 and key < arr[j]:\n",
    "            arr[j+1] = arr[j]\n",
    "            j -= 1\n",
    "        arr[j+1] = key\n",
    "    return arr\n",
    "\n",
    "# Example Usage\n",
    "arr = [5, 4, 3, 1, 2]\n",
    "print(\"Original array:\", arr)\n",
    "sorted_arr = min_insertion(arr)\n",
    "print(\"Sorted array:\", sorted_arr)"
   ]
  },
  {
   "cell_type": "code",
   "execution_count": 16,
   "metadata": {},
   "outputs": [
    {
     "name": "stdout",
     "output_type": "stream",
     "text": [
      "Original array: [5, 4, 3, 1, 2]\n",
      "Sorted array: [5, 4, 3, 2, 1]\n"
     ]
    }
   ],
   "source": [
    "def max_insertion(arr):\n",
    "    for i in range(1, len(arr)):\n",
    "        key = arr[i]\n",
    "        j = i - 1\n",
    "        while j >= 0 and key > arr[j]:\n",
    "            arr[j+1] = arr[j]\n",
    "            j -= 1\n",
    "        arr[j+1] = key\n",
    "    return arr\n",
    "\n",
    "# Example Usage\n",
    "arr = [5, 4, 3, 1, 2]\n",
    "print(\"Original array:\", arr)\n",
    "sorted_arr = max_insertion(arr)\n",
    "print(\"Sorted array:\", sorted_arr)"
   ]
  }
 ],
 "metadata": {
  "kernelspec": {
   "display_name": "base",
   "language": "python",
   "name": "python3"
  },
  "language_info": {
   "codemirror_mode": {
    "name": "ipython",
    "version": 3
   },
   "file_extension": ".py",
   "mimetype": "text/x-python",
   "name": "python",
   "nbconvert_exporter": "python",
   "pygments_lexer": "ipython3",
   "version": "3.10.12"
  }
 },
 "nbformat": 4,
 "nbformat_minor": 2
}
